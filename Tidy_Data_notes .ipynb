{
 "cells": [
  {
   "cell_type": "raw",
   "id": "6f38792d",
   "metadata": {},
   "source": [
    "Tiday data is not clean data. \n",
    "\n",
    "Data tidying - structuring datasets so they are easily analyzed \n",
    "\n",
    "Goal of tidy data \n",
    "- tabular \n",
    "- row should only have one observation\n",
    "- column should only have one variable \n",
    "- If you can't pass the data in seaborn it's not tidy \n",
    "- If you tidy data your groupby statments are easier to write \n",
    "- Tips dataset is a good example \n",
    "\n",
    "if we have wide data and need to turn it into long data use Melt \n",
    "     - helps get values out of columns \n",
    "if have long data and need wide use pivot_table or unstack \n",
    "    - pivot gets values into columns \n",
    "    \n",
    "untidy-data/pew is on SQL database if want to practice \n",
    "\n"
   ]
  },
  {
   "cell_type": "raw",
   "id": "6fe906f8",
   "metadata": {},
   "source": [
    "More complex example \n",
    "1. put columns you want to move in melt and exclude columns you don't want to move.\n",
    "\n",
    "Use split if you need to separate number from category name and then rename columns"
   ]
  },
  {
   "cell_type": "raw",
   "id": "11d9f611",
   "metadata": {},
   "source": [
    "Exercise 1 tidy data notes \n",
    "\n",
    "- rename column of student names to names\n",
    "- don't melt what you don't want to move \n",
    "- change letters to values, using map method \n",
    "- take average of each students attendance, groupby and take mean "
   ]
  },
  {
   "cell_type": "raw",
   "id": "3fc3f73f",
   "metadata": {},
   "source": [
    "Exercise 2 tidy data notes \n",
    "-Transform the data so that each carafe is in it's own column (pivot table)/ don't want hour to pivot/create columns from coffee carafe\n",
    "-Best way to show data is the original. The original is tabular data. The pivot table is human readable but that's not best for tidy data"
   ]
  },
  {
   "cell_type": "raw",
   "id": "6c945504",
   "metadata": {},
   "source": [
    "Exercise 3 tidy data notes - cake recipes \n",
    "- temperatures should be stored in columns \n",
    "- Melt tempareatures and not recipe:position\n",
    "- split recipe and position\n",
    "-to answer score question, group by recipe name and then aggregate mean, idxmax prints max out of list \n",
    "- answer oven temperature question\n",
    "    - group by oven tempearature and find mean idxmax can also use .tail\n",
    "- combination, groupby relevant columns idmax "
   ]
  }
 ],
 "metadata": {
  "kernelspec": {
   "display_name": "Python 3 (ipykernel)",
   "language": "python",
   "name": "python3"
  },
  "language_info": {
   "codemirror_mode": {
    "name": "ipython",
    "version": 3
   },
   "file_extension": ".py",
   "mimetype": "text/x-python",
   "name": "python",
   "nbconvert_exporter": "python",
   "pygments_lexer": "ipython3",
   "version": "3.9.12"
  }
 },
 "nbformat": 4,
 "nbformat_minor": 5
}
