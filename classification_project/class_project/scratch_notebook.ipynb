{
 "cells": [
  {
   "cell_type": "code",
   "execution_count": 1,
   "id": "fbba4c90",
   "metadata": {},
   "outputs": [],
   "source": [
    "#all imports for project \n",
    "import matplotlib.pyplot as plt\n",
    "import numpy as np\n",
    "import pandas as pd\n",
    "import seaborn as sns\n",
    "from env import get_db_url\n",
    "from scipy import stats\n",
    "from sklearn.ensemble import RandomForestClassifier\n",
    "from sklearn.neighbors import KNeighborsClassifier\n",
    "from sklearn.tree import DecisionTreeClassifier, plot_tree, export_text\n",
    "from sklearn.metrics import classification_report, confusion_matrix, plot_confusion_matrix\n",
    "import sklearn.linear_model\n",
    "from sklearn.linear_model import LogisticRegression\n",
    "\n",
    "# our own acquire script:\n",
    "import acquire \n",
    "\n",
    "import prep\n",
    "\n",
    "#alpha will equal .05 for all statistical tests\n",
    "a = .05\n",
    "\n",
    "np.random.seed(100)"
   ]
  },
  {
   "cell_type": "code",
   "execution_count": 2,
   "id": "0f33f2bf",
   "metadata": {},
   "outputs": [],
   "source": [
    "df = acquire.new_telco_data()\n"
   ]
  },
  {
   "cell_type": "code",
   "execution_count": 3,
   "id": "0809ea5b",
   "metadata": {},
   "outputs": [
    {
     "name": "stderr",
     "output_type": "stream",
     "text": [
      "/Users/allantestaten/codeup-data-science/classification-exercises/classification_project/class project/prep.py:39: SettingWithCopyWarning: \n",
      "A value is trying to be set on a copy of a slice from a DataFrame.\n",
      "Try using .loc[row_indexer,col_indexer] = value instead\n",
      "\n",
      "See the caveats in the documentation: https://pandas.pydata.org/pandas-docs/stable/user_guide/indexing.html#returning-a-view-versus-a-copy\n",
      "  df['total_charges'] = df.total_charges.astype(float)\n",
      "/Users/allantestaten/codeup-data-science/classification-exercises/classification_project/class project/prep.py:42: SettingWithCopyWarning: \n",
      "A value is trying to be set on a copy of a slice from a DataFrame.\n",
      "Try using .loc[row_indexer,col_indexer] = value instead\n",
      "\n",
      "See the caveats in the documentation: https://pandas.pydata.org/pandas-docs/stable/user_guide/indexing.html#returning-a-view-versus-a-copy\n",
      "  df['is_female'] = df.gender.map({'Female': 1, 'Male': 0})\n",
      "/Users/allantestaten/codeup-data-science/classification-exercises/classification_project/class project/prep.py:43: SettingWithCopyWarning: \n",
      "A value is trying to be set on a copy of a slice from a DataFrame.\n",
      "Try using .loc[row_indexer,col_indexer] = value instead\n",
      "\n",
      "See the caveats in the documentation: https://pandas.pydata.org/pandas-docs/stable/user_guide/indexing.html#returning-a-view-versus-a-copy\n",
      "  df['has_partner'] = df.partner.map({'Yes': 1, 'No': 0})\n",
      "/Users/allantestaten/codeup-data-science/classification-exercises/classification_project/class project/prep.py:44: SettingWithCopyWarning: \n",
      "A value is trying to be set on a copy of a slice from a DataFrame.\n",
      "Try using .loc[row_indexer,col_indexer] = value instead\n",
      "\n",
      "See the caveats in the documentation: https://pandas.pydata.org/pandas-docs/stable/user_guide/indexing.html#returning-a-view-versus-a-copy\n",
      "  df['has_dependents'] = df.dependents.map({'Yes': 1, 'No': 0})\n",
      "/Users/allantestaten/codeup-data-science/classification-exercises/classification_project/class project/prep.py:45: SettingWithCopyWarning: \n",
      "A value is trying to be set on a copy of a slice from a DataFrame.\n",
      "Try using .loc[row_indexer,col_indexer] = value instead\n",
      "\n",
      "See the caveats in the documentation: https://pandas.pydata.org/pandas-docs/stable/user_guide/indexing.html#returning-a-view-versus-a-copy\n",
      "  df['has_phone_service'] = df.phone_service.map({'Yes': 1, 'No': 0})\n",
      "/Users/allantestaten/codeup-data-science/classification-exercises/classification_project/class project/prep.py:46: SettingWithCopyWarning: \n",
      "A value is trying to be set on a copy of a slice from a DataFrame.\n",
      "Try using .loc[row_indexer,col_indexer] = value instead\n",
      "\n",
      "See the caveats in the documentation: https://pandas.pydata.org/pandas-docs/stable/user_guide/indexing.html#returning-a-view-versus-a-copy\n",
      "  df['has_paperless_billing'] = df.paperless_billing.map({'Yes': 1, 'No': 0})\n",
      "/Users/allantestaten/codeup-data-science/classification-exercises/classification_project/class project/prep.py:47: SettingWithCopyWarning: \n",
      "A value is trying to be set on a copy of a slice from a DataFrame.\n",
      "Try using .loc[row_indexer,col_indexer] = value instead\n",
      "\n",
      "See the caveats in the documentation: https://pandas.pydata.org/pandas-docs/stable/user_guide/indexing.html#returning-a-view-versus-a-copy\n",
      "  df['has_churned'] = df.churn.map({'Yes': 1, 'No': 0})\n"
     ]
    }
   ],
   "source": [
    "train, validate, test = prep.prep_telco_data(df)"
   ]
  },
  {
   "cell_type": "markdown",
   "id": "0d107419",
   "metadata": {},
   "source": [
    "# How often do customers churn?"
   ]
  },
  {
   "cell_type": "code",
   "execution_count": 4,
   "id": "f593a3b3",
   "metadata": {},
   "outputs": [
    {
     "data": {
      "text/plain": [
       "(array([3871.,    0.,    0.,    0.,    0.,    0.,    0.,    0.,    0.,\n",
       "        1402.]),\n",
       " array([0. , 0.1, 0.2, 0.3, 0.4, 0.5, 0.6, 0.7, 0.8, 0.9, 1. ]),\n",
       " <BarContainer object of 10 artists>)"
      ]
     },
     "execution_count": 4,
     "metadata": {},
     "output_type": "execute_result"
    },
    {
     "data": {
      "image/png": "[encoded data removed]",
      "text/plain": [
       "<Figure size 432x288 with 1 Axes>"
      ]
     },
     "metadata": {
      "needs_background": "light"
     },
     "output_type": "display_data"
    }
   ],
   "source": [
    "train.churn.value_counts(normalize=True)\n",
    "\n",
    "plt.hist(train.churn)\n"
   ]
  },
  {
   "cell_type": "markdown",
   "id": "86616a35",
   "metadata": {},
   "source": [
    "## The above graph shows that customers churn 26% of the time. So it is more likely for a customer to stay with the company than not to. "
   ]
  },
  {
   "cell_type": "markdown",
   "id": "02c5065b",
   "metadata": {},
   "source": [
    "# Is there an association between churn and Internet Service Type? "
   ]
  },
  {
   "cell_type": "code",
   "execution_count": 5,
   "id": "cfb33913",
   "metadata": {},
   "outputs": [
    {
     "data": {
      "text/plain": [
       "['payment_type_id',\n",
       " 'internet_service_type_id',\n",
       " 'contract_type_id',\n",
       " 'customer_id',\n",
       " 'gender',\n",
       " 'senior_citizen',\n",
       " 'partner',\n",
       " 'dependents',\n",
       " 'tenure',\n",
       " 'phone_service',\n",
       " 'multiple_lines',\n",
       " 'online_security',\n",
       " 'online_backup',\n",
       " 'device_protection',\n",
       " 'tech_support',\n",
       " 'streaming_tv',\n",
       " 'streaming_movies',\n",
       " 'paperless_billing',\n",
       " 'monthly_charges',\n",
       " 'total_charges',\n",
       " 'churn',\n",
       " 'contract_type',\n",
       " 'internet_service_type',\n",
       " 'payment_type',\n",
       " 'is_female',\n",
       " 'has_partner',\n",
       " 'has_dependents',\n",
       " 'has_phone_service',\n",
       " 'has_paperless_billing',\n",
       " 'has_churned',\n",
       " 'multiple_lines_No phone service',\n",
       " 'multiple_lines_Yes',\n",
       " 'online_security_No internet service',\n",
       " 'online_security_Yes',\n",
       " 'online_backup_No internet service',\n",
       " 'online_backup_Yes',\n",
       " 'device_protection_No internet service',\n",
       " 'device_protection_Yes',\n",
       " 'tech_support_No internet service',\n",
       " 'tech_support_Yes',\n",
       " 'streaming_tv_No internet service',\n",
       " 'streaming_tv_Yes',\n",
       " 'streaming_movies_No internet service',\n",
       " 'streaming_movies_Yes',\n",
       " 'contract_type_One year',\n",
       " 'contract_type_Two year',\n",
       " 'internet_service_type_Fiber optic',\n",
       " 'internet_service_type_None',\n",
       " 'payment_type_Credit card (automatic)',\n",
       " 'payment_type_Electronic check',\n",
       " 'payment_type_Mailed check']"
      ]
     },
     "execution_count": 5,
     "metadata": {},
     "output_type": "execute_result"
    }
   ],
   "source": [
    "list(train.columns)"
   ]
  },
  {
   "cell_type": "raw",
   "id": "0a868b3b",
   "metadata": {},
   "source": [
    "These are two categorical variables so I will use a chi^2 test to determine if there is an association between the two variables. "
   ]
  },
  {
   "cell_type": "code",
   "execution_count": 6,
   "id": "fcd2c25c",
   "metadata": {},
   "outputs": [
    {
     "data": {
      "text/html": [
       "<div>\n",
       "<style scoped>\n",
       "    .dataframe tbody tr th:only-of-type {\n",
       "        vertical-align: middle;\n",
       "    }\n",
       "\n",
       "    .dataframe tbody tr th {\n",
       "        vertical-align: top;\n",
       "    }\n",
       "\n",
       "    .dataframe thead th {\n",
       "        text-align: right;\n",
       "    }\n",
       "</style>\n",
       "<table border=\"1\" class=\"dataframe\">\n",
       "  <thead>\n",
       "    <tr style=\"text-align: right;\">\n",
       "      <th>internet_service_type_id</th>\n",
       "      <th>1</th>\n",
       "      <th>2</th>\n",
       "      <th>3</th>\n",
       "    </tr>\n",
       "    <tr>\n",
       "      <th>churn</th>\n",
       "      <th></th>\n",
       "      <th></th>\n",
       "      <th></th>\n",
       "    </tr>\n",
       "  </thead>\n",
       "  <tbody>\n",
       "    <tr>\n",
       "      <th>No</th>\n",
       "      <td>1487</td>\n",
       "      <td>1327</td>\n",
       "      <td>1057</td>\n",
       "    </tr>\n",
       "    <tr>\n",
       "      <th>Yes</th>\n",
       "      <td>337</td>\n",
       "      <td>984</td>\n",
       "      <td>81</td>\n",
       "    </tr>\n",
       "  </tbody>\n",
       "</table>\n",
       "</div>"
      ],
      "text/plain": [
       "internet_service_type_id     1     2     3\n",
       "churn                                     \n",
       "No                        1487  1327  1057\n",
       "Yes                        337   984    81"
      ]
     },
     "execution_count": 6,
     "metadata": {},
     "output_type": "execute_result"
    }
   ],
   "source": [
    "# cross tab created in preparation to run chi^2 test\n",
    "#service type ID 1 = DSL internet, 2 = Fiber Optic, 3 = No internet\n",
    "observed = pd.crosstab(train.churn, train.internet_service_type_id)\n",
    "observed"
   ]
  },
  {
   "cell_type": "code",
   "execution_count": 7,
   "id": "5c8b049a",
   "metadata": {},
   "outputs": [
    {
     "data": {
      "text/plain": [
       "8.130192076012108e-128"
      ]
     },
     "execution_count": 7,
     "metadata": {},
     "output_type": "execute_result"
    }
   ],
   "source": [
    "#code to generate results of chi^2 test \n",
    "chi2, p, degf, expected = stats.chi2_contingency(observed)\n",
    "\n",
    "p"
   ]
  },
  {
   "cell_type": "code",
   "execution_count": 8,
   "id": "2c9ae700",
   "metadata": {},
   "outputs": [
    {
     "name": "stdout",
     "output_type": "stream",
     "text": [
      "Observed\n",
      "[[1487 1327 1057]\n",
      " [ 337  984   81]]\n",
      "\n",
      "Expected\n",
      "[[1339 1696  835]\n",
      " [ 484  614  302]]\n",
      "\n",
      "----\n",
      "chi^2 = 585.2706\n",
      "p     = 8.130192076012108e-128\n"
     ]
    }
   ],
   "source": [
    "#output of values observed and expected values from test\n",
    "print('Observed')\n",
    "print(observed.values)\n",
    "print('\\nExpected')\n",
    "print(expected.astype(int))\n",
    "print('\\n----')\n",
    "print(f'chi^2 = {chi2:.4f}')\n",
    "print(f'p     = {p}')"
   ]
  },
  {
   "cell_type": "markdown",
   "id": "2c839b24",
   "metadata": {},
   "source": [
    "# FINDINGS \n",
    "### The results of the chi^2 test support the idea that there is an association between churn and the internet service type"
   ]
  },
  {
   "cell_type": "markdown",
   "id": "4d6b3421",
   "metadata": {},
   "source": [
    "# Is there an association between churn and having phone service? "
   ]
  },
  {
   "cell_type": "raw",
   "id": "a668dbb1",
   "metadata": {},
   "source": [
    "These are two categorical variables so I will use a chi^2 test to determine if there is an association between the two variables. "
   ]
  },
  {
   "cell_type": "code",
   "execution_count": 9,
   "id": "e67530c6",
   "metadata": {},
   "outputs": [
    {
     "data": {
      "text/html": [
       "<div>\n",
       "<style scoped>\n",
       "    .dataframe tbody tr th:only-of-type {\n",
       "        vertical-align: middle;\n",
       "    }\n",
       "\n",
       "    .dataframe tbody tr th {\n",
       "        vertical-align: top;\n",
       "    }\n",
       "\n",
       "    .dataframe thead th {\n",
       "        text-align: right;\n",
       "    }\n",
       "</style>\n",
       "<table border=\"1\" class=\"dataframe\">\n",
       "  <thead>\n",
       "    <tr style=\"text-align: right;\">\n",
       "      <th>phone_service</th>\n",
       "      <th>No</th>\n",
       "      <th>Yes</th>\n",
       "    </tr>\n",
       "    <tr>\n",
       "      <th>churn</th>\n",
       "      <th></th>\n",
       "      <th></th>\n",
       "    </tr>\n",
       "  </thead>\n",
       "  <tbody>\n",
       "    <tr>\n",
       "      <th>No</th>\n",
       "      <td>395</td>\n",
       "      <td>3476</td>\n",
       "    </tr>\n",
       "    <tr>\n",
       "      <th>Yes</th>\n",
       "      <td>124</td>\n",
       "      <td>1278</td>\n",
       "    </tr>\n",
       "  </tbody>\n",
       "</table>\n",
       "</div>"
      ],
      "text/plain": [
       "phone_service   No   Yes\n",
       "churn                   \n",
       "No             395  3476\n",
       "Yes            124  1278"
      ]
     },
     "execution_count": 9,
     "metadata": {},
     "output_type": "execute_result"
    }
   ],
   "source": [
    "# cross tab created in preparation to run chi^2 test\n",
    "observed = pd.crosstab(train.churn, train.phone_service)\n",
    "observed"
   ]
  },
  {
   "cell_type": "code",
   "execution_count": 10,
   "id": "ef111a7d",
   "metadata": {},
   "outputs": [
    {
     "data": {
      "text/plain": [
       "0.1579813801645912"
      ]
     },
     "execution_count": 10,
     "metadata": {},
     "output_type": "execute_result"
    }
   ],
   "source": [
    "#code to generate results of chi^2 test \n",
    "chi2, p, degf, expected = stats.chi2_contingency(observed)\n",
    "\n",
    "p"
   ]
  },
  {
   "cell_type": "code",
   "execution_count": 11,
   "id": "efec2cb5",
   "metadata": {},
   "outputs": [
    {
     "name": "stdout",
     "output_type": "stream",
     "text": [
      "Observed\n",
      "[[ 395 3476]\n",
      " [ 124 1278]]\n",
      "\n",
      "Expected\n",
      "[[ 381 3489]\n",
      " [ 137 1264]]\n",
      "\n",
      "----\n",
      "chi^2 = 1.9934\n",
      "p     = 0.1579813801645912\n"
     ]
    }
   ],
   "source": [
    "#output of values observed and expected values from test\n",
    "print('Observed')\n",
    "print(observed.values)\n",
    "print('\\nExpected')\n",
    "print(expected.astype(int))\n",
    "print('\\n----')\n",
    "print(f'chi^2 = {chi2:.4f}')\n",
    "print(f'p     = {p}')"
   ]
  },
  {
   "cell_type": "markdown",
   "id": "68b7a53d",
   "metadata": {},
   "source": [
    "# FINDINGS \n",
    "### The results of the chi^2 test support the idea that there is not an association between churn and the phone service"
   ]
  },
  {
   "cell_type": "markdown",
   "id": "f79d802a",
   "metadata": {},
   "source": [
    "# Is there an association between churn and having techinical support?"
   ]
  },
  {
   "cell_type": "markdown",
   "id": "f866d464",
   "metadata": {},
   "source": [
    "These are two categorical variables so I will use a chi^2 test to determine if there is an association between the two variables. "
   ]
  },
  {
   "cell_type": "code",
   "execution_count": 12,
   "id": "961265ed",
   "metadata": {},
   "outputs": [
    {
     "data": {
      "text/html": [
       "<div>\n",
       "<style scoped>\n",
       "    .dataframe tbody tr th:only-of-type {\n",
       "        vertical-align: middle;\n",
       "    }\n",
       "\n",
       "    .dataframe tbody tr th {\n",
       "        vertical-align: top;\n",
       "    }\n",
       "\n",
       "    .dataframe thead th {\n",
       "        text-align: right;\n",
       "    }\n",
       "</style>\n",
       "<table border=\"1\" class=\"dataframe\">\n",
       "  <thead>\n",
       "    <tr style=\"text-align: right;\">\n",
       "      <th>tech_support</th>\n",
       "      <th>No</th>\n",
       "      <th>No internet service</th>\n",
       "      <th>Yes</th>\n",
       "    </tr>\n",
       "    <tr>\n",
       "      <th>churn</th>\n",
       "      <th></th>\n",
       "      <th></th>\n",
       "      <th></th>\n",
       "    </tr>\n",
       "  </thead>\n",
       "  <tbody>\n",
       "    <tr>\n",
       "      <th>No</th>\n",
       "      <td>1504</td>\n",
       "      <td>1057</td>\n",
       "      <td>1310</td>\n",
       "    </tr>\n",
       "    <tr>\n",
       "      <th>Yes</th>\n",
       "      <td>1092</td>\n",
       "      <td>81</td>\n",
       "      <td>229</td>\n",
       "    </tr>\n",
       "  </tbody>\n",
       "</table>\n",
       "</div>"
      ],
      "text/plain": [
       "tech_support    No  No internet service   Yes\n",
       "churn                                        \n",
       "No            1504                 1057  1310\n",
       "Yes           1092                   81   229"
      ]
     },
     "execution_count": 12,
     "metadata": {},
     "output_type": "execute_result"
    }
   ],
   "source": [
    "# cross tab created in preparation to run chi^2 test\n",
    "observed = pd.crosstab(train.churn, train.tech_support)\n",
    "observed"
   ]
  },
  {
   "cell_type": "code",
   "execution_count": 13,
   "id": "8d0e8dae",
   "metadata": {},
   "outputs": [
    {
     "data": {
      "text/plain": [
       "2.2865581269117635e-141"
      ]
     },
     "execution_count": 13,
     "metadata": {},
     "output_type": "execute_result"
    }
   ],
   "source": [
    "#code to generate results of chi^2 test \n",
    "chi2, p, degf, expected = stats.chi2_contingency(observed)\n",
    "\n",
    "p"
   ]
  },
  {
   "cell_type": "code",
   "execution_count": 14,
   "id": "4fc29512",
   "metadata": {},
   "outputs": [
    {
     "name": "stdout",
     "output_type": "stream",
     "text": [
      "Observed\n",
      "[[1504 1057 1310]\n",
      " [1092   81  229]]\n",
      "\n",
      "Expected\n",
      "[[1905  835 1129]\n",
      " [ 690  302  409]]\n",
      "\n",
      "----\n",
      "chi^2 = 647.6749\n",
      "p     = 2.2865581269117635e-141\n"
     ]
    }
   ],
   "source": [
    "#output of values observed and expected values from test\n",
    "print('Observed')\n",
    "print(observed.values)\n",
    "print('\\nExpected')\n",
    "print(expected.astype(int))\n",
    "print('\\n----')\n",
    "print(f'chi^2 = {chi2:.4f}')\n",
    "print(f'p     = {p}')"
   ]
  },
  {
   "cell_type": "markdown",
   "id": "d273d9cd",
   "metadata": {},
   "source": [
    "# FINDINGS \n",
    "### The results of the chi^2 test support the idea that there is an association between churn and a customer having technical support"
   ]
  },
  {
   "cell_type": "markdown",
   "id": "fe0f8895",
   "metadata": {},
   "source": [
    "# Is there an association between churn and having fiber optic internet?"
   ]
  },
  {
   "cell_type": "markdown",
   "id": "d8dcbe4c",
   "metadata": {},
   "source": [
    "These are two categorical variables so I will use a chi^2 test to determine if there is an association between the two variables. "
   ]
  },
  {
   "cell_type": "code",
   "execution_count": 15,
   "id": "106a76bf",
   "metadata": {},
   "outputs": [
    {
     "data": {
      "text/html": [
       "<div>\n",
       "<style scoped>\n",
       "    .dataframe tbody tr th:only-of-type {\n",
       "        vertical-align: middle;\n",
       "    }\n",
       "\n",
       "    .dataframe tbody tr th {\n",
       "        vertical-align: top;\n",
       "    }\n",
       "\n",
       "    .dataframe thead th {\n",
       "        text-align: right;\n",
       "    }\n",
       "</style>\n",
       "<table border=\"1\" class=\"dataframe\">\n",
       "  <thead>\n",
       "    <tr style=\"text-align: right;\">\n",
       "      <th>internet_service_type_Fiber optic</th>\n",
       "      <th>0</th>\n",
       "      <th>1</th>\n",
       "    </tr>\n",
       "    <tr>\n",
       "      <th>churn</th>\n",
       "      <th></th>\n",
       "      <th></th>\n",
       "    </tr>\n",
       "  </thead>\n",
       "  <tbody>\n",
       "    <tr>\n",
       "      <th>No</th>\n",
       "      <td>2544</td>\n",
       "      <td>1327</td>\n",
       "    </tr>\n",
       "    <tr>\n",
       "      <th>Yes</th>\n",
       "      <td>418</td>\n",
       "      <td>984</td>\n",
       "    </tr>\n",
       "  </tbody>\n",
       "</table>\n",
       "</div>"
      ],
      "text/plain": [
       "internet_service_type_Fiber optic     0     1\n",
       "churn                                        \n",
       "No                                 2544  1327\n",
       "Yes                                 418   984"
      ]
     },
     "execution_count": 15,
     "metadata": {},
     "output_type": "execute_result"
    }
   ],
   "source": [
    "# cross tab created in preparation to run chi^2 test\n",
    "observed = pd.crosstab(train['churn'], train['internet_service_type_Fiber optic'])\n",
    "observed"
   ]
  },
  {
   "cell_type": "code",
   "execution_count": 16,
   "id": "a2863887",
   "metadata": {},
   "outputs": [
    {
     "data": {
      "text/plain": [
       "6.608799714670794e-119"
      ]
     },
     "execution_count": 16,
     "metadata": {},
     "output_type": "execute_result"
    }
   ],
   "source": [
    "#code to generate results of chi^2 test \n",
    "chi2, p, degf, expected = stats.chi2_contingency(observed)\n",
    "\n",
    "p"
   ]
  },
  {
   "cell_type": "code",
   "execution_count": 17,
   "id": "00e37b72",
   "metadata": {},
   "outputs": [
    {
     "name": "stdout",
     "output_type": "stream",
     "text": [
      "Observed\n",
      "[[2544 1327]\n",
      " [ 418  984]]\n",
      "\n",
      "Expected\n",
      "[[2174 1696]\n",
      " [ 787  614]]\n",
      "\n",
      "----\n",
      "chi^2 = 537.4962\n",
      "p     = 6.608799714670794e-119\n"
     ]
    }
   ],
   "source": [
    "#output of values observed and expected values from test\n",
    "print('Observed')\n",
    "print(observed.values)\n",
    "print('\\nExpected')\n",
    "print(expected.astype(int))\n",
    "print('\\n----')\n",
    "print(f'chi^2 = {chi2:.4f}')\n",
    "print(f'p     = {p}')"
   ]
  },
  {
   "cell_type": "markdown",
   "id": "475b2163",
   "metadata": {},
   "source": [
    "# FINDINGS \n",
    "### The results of the chi^2 test support the idea that there is an association between churn and a customer having fiber optic internet service."
   ]
  },
  {
   "cell_type": "markdown",
   "id": "fa35cc88",
   "metadata": {},
   "source": [
    "# Is there an association between churn and contract type?\n",
    "\n"
   ]
  },
  {
   "cell_type": "raw",
   "id": "a6cbceab",
   "metadata": {},
   "source": [
    "These are two categorical variables so I will use a chi^2 test to determine if there is an association between the two variables. "
   ]
  },
  {
   "cell_type": "code",
   "execution_count": 18,
   "id": "b6ef8e78",
   "metadata": {},
   "outputs": [
    {
     "data": {
      "text/html": [
       "<div>\n",
       "<style scoped>\n",
       "    .dataframe tbody tr th:only-of-type {\n",
       "        vertical-align: middle;\n",
       "    }\n",
       "\n",
       "    .dataframe tbody tr th {\n",
       "        vertical-align: top;\n",
       "    }\n",
       "\n",
       "    .dataframe thead th {\n",
       "        text-align: right;\n",
       "    }\n",
       "</style>\n",
       "<table border=\"1\" class=\"dataframe\">\n",
       "  <thead>\n",
       "    <tr style=\"text-align: right;\">\n",
       "      <th>contract_type_id</th>\n",
       "      <th>1</th>\n",
       "      <th>2</th>\n",
       "      <th>3</th>\n",
       "    </tr>\n",
       "    <tr>\n",
       "      <th>churn</th>\n",
       "      <th></th>\n",
       "      <th></th>\n",
       "      <th></th>\n",
       "    </tr>\n",
       "  </thead>\n",
       "  <tbody>\n",
       "    <tr>\n",
       "      <th>No</th>\n",
       "      <td>1652</td>\n",
       "      <td>998</td>\n",
       "      <td>1221</td>\n",
       "    </tr>\n",
       "    <tr>\n",
       "      <th>Yes</th>\n",
       "      <td>1238</td>\n",
       "      <td>127</td>\n",
       "      <td>37</td>\n",
       "    </tr>\n",
       "  </tbody>\n",
       "</table>\n",
       "</div>"
      ],
      "text/plain": [
       "contract_type_id     1    2     3\n",
       "churn                            \n",
       "No                1652  998  1221\n",
       "Yes               1238  127    37"
      ]
     },
     "execution_count": 18,
     "metadata": {},
     "output_type": "execute_result"
    }
   ],
   "source": [
    "# cross tab created in preparation to run chi^2 test\n",
    "observed = pd.crosstab(train.churn, train.contract_type_id)\n",
    "observed\n",
    "\n"
   ]
  },
  {
   "cell_type": "code",
   "execution_count": 19,
   "id": "4a9a7188",
   "metadata": {},
   "outputs": [
    {
     "data": {
      "text/plain": [
       "3.595868861996222e-193"
      ]
     },
     "execution_count": 19,
     "metadata": {},
     "output_type": "execute_result"
    }
   ],
   "source": [
    "#code to generate results of chi^2 test \n",
    "chi2, p, degf, expected = stats.chi2_contingency(observed)\n",
    "\n",
    "p"
   ]
  },
  {
   "cell_type": "code",
   "execution_count": 20,
   "id": "f7ecdf57",
   "metadata": {},
   "outputs": [
    {
     "name": "stdout",
     "output_type": "stream",
     "text": [
      "Observed\n",
      "[[1652  998 1221]\n",
      " [1238  127   37]]\n",
      "\n",
      "Expected\n",
      "[[2121  825  923]\n",
      " [ 768  299  334]]\n",
      "\n",
      "----\n",
      "chi^2 = 886.2383\n",
      "p     = 3.595868861996222e-193\n"
     ]
    }
   ],
   "source": [
    "#output of values observed and expected values from test\n",
    "print('Observed')\n",
    "print(observed.values)\n",
    "print('\\nExpected')\n",
    "print(expected.astype(int))\n",
    "print('\\n----')\n",
    "print(f'chi^2 = {chi2:.4f}')\n",
    "print(f'p     = {p}')"
   ]
  },
  {
   "cell_type": "markdown",
   "id": "13ef8b61",
   "metadata": {},
   "source": [
    "# FINDINGS \n",
    "### The results of the chi^2 test support the idea that there is an association between churn and contract type."
   ]
  },
  {
   "cell_type": "markdown",
   "id": "5a3131be",
   "metadata": {},
   "source": [
    "####  Addressing nulls \n",
    "No nulls in data set before modeling "
   ]
  },
  {
   "cell_type": "code",
   "execution_count": 21,
   "id": "f9e01579",
   "metadata": {},
   "outputs": [
    {
     "name": "stdout",
     "output_type": "stream",
     "text": [
      "<class 'pandas.core.frame.DataFrame'>\n",
      "RangeIndex: 7043 entries, 0 to 7042\n",
      "Data columns (total 24 columns):\n",
      " #   Column                    Non-Null Count  Dtype  \n",
      "---  ------                    --------------  -----  \n",
      " 0   payment_type_id           7043 non-null   int64  \n",
      " 1   internet_service_type_id  7043 non-null   int64  \n",
      " 2   contract_type_id          7043 non-null   int64  \n",
      " 3   customer_id               7043 non-null   object \n",
      " 4   gender                    7043 non-null   object \n",
      " 5   senior_citizen            7043 non-null   int64  \n",
      " 6   partner                   7043 non-null   object \n",
      " 7   dependents                7043 non-null   object \n",
      " 8   tenure                    7043 non-null   int64  \n",
      " 9   phone_service             7043 non-null   object \n",
      " 10  multiple_lines            7043 non-null   object \n",
      " 11  online_security           7043 non-null   object \n",
      " 12  online_backup             7043 non-null   object \n",
      " 13  device_protection         7043 non-null   object \n",
      " 14  tech_support              7043 non-null   object \n",
      " 15  streaming_tv              7043 non-null   object \n",
      " 16  streaming_movies          7043 non-null   object \n",
      " 17  paperless_billing         7043 non-null   object \n",
      " 18  monthly_charges           7043 non-null   float64\n",
      " 19  total_charges             7043 non-null   object \n",
      " 20  churn                     7043 non-null   object \n",
      " 21  contract_type             7043 non-null   object \n",
      " 22  internet_service_type     7043 non-null   object \n",
      " 23  payment_type              7043 non-null   object \n",
      "dtypes: float64(1), int64(5), object(18)\n",
      "memory usage: 1.3+ MB\n"
     ]
    }
   ],
   "source": [
    "df.info()"
   ]
  },
  {
   "cell_type": "markdown",
   "id": "64bbc7d5",
   "metadata": {},
   "source": [
    "# Start building Models "
   ]
  },
  {
   "cell_type": "code",
   "execution_count": 22,
   "id": "f6d1d30a",
   "metadata": {},
   "outputs": [
    {
     "name": "stdout",
     "output_type": "stream",
     "text": [
      "Train: (5273, 51)\n",
      "Validate: (1055, 51)\n",
      "Test: (704, 51)\n"
     ]
    }
   ],
   "source": [
    "# Size of samples that will be evaluated \n",
    "print(f'Train: {train.shape}')\n",
    "print(f'Validate: {validate.shape}')\n",
    "print(f'Test: {test.shape}')"
   ]
  },
  {
   "cell_type": "markdown",
   "id": "4efbbcad",
   "metadata": {},
   "source": [
    "## Model 1 Decision Tree "
   ]
  },
  {
   "cell_type": "code",
   "execution_count": 23,
   "id": "74d8434f",
   "metadata": {},
   "outputs": [
    {
     "data": {
      "text/html": [
       "<div>\n",
       "<style scoped>\n",
       "    .dataframe tbody tr th:only-of-type {\n",
       "        vertical-align: middle;\n",
       "    }\n",
       "\n",
       "    .dataframe tbody tr th {\n",
       "        vertical-align: top;\n",
       "    }\n",
       "\n",
       "    .dataframe thead th {\n",
       "        text-align: right;\n",
       "    }\n",
       "</style>\n",
       "<table border=\"1\" class=\"dataframe\">\n",
       "  <thead>\n",
       "    <tr style=\"text-align: right;\">\n",
       "      <th></th>\n",
       "      <th>payment_type_id</th>\n",
       "      <th>internet_service_type_id</th>\n",
       "      <th>contract_type_id</th>\n",
       "      <th>customer_id</th>\n",
       "      <th>gender</th>\n",
       "      <th>senior_citizen</th>\n",
       "      <th>partner</th>\n",
       "      <th>dependents</th>\n",
       "      <th>tenure</th>\n",
       "      <th>phone_service</th>\n",
       "      <th>...</th>\n",
       "      <th>streaming_tv_Yes</th>\n",
       "      <th>streaming_movies_No internet service</th>\n",
       "      <th>streaming_movies_Yes</th>\n",
       "      <th>contract_type_One year</th>\n",
       "      <th>contract_type_Two year</th>\n",
       "      <th>internet_service_type_Fiber optic</th>\n",
       "      <th>internet_service_type_None</th>\n",
       "      <th>payment_type_Credit card (automatic)</th>\n",
       "      <th>payment_type_Electronic check</th>\n",
       "      <th>payment_type_Mailed check</th>\n",
       "    </tr>\n",
       "  </thead>\n",
       "  <tbody>\n",
       "    <tr>\n",
       "      <th>5783</th>\n",
       "      <td>1</td>\n",
       "      <td>1</td>\n",
       "      <td>3</td>\n",
       "      <td>8144-DGHXP</td>\n",
       "      <td>Female</td>\n",
       "      <td>0</td>\n",
       "      <td>No</td>\n",
       "      <td>No</td>\n",
       "      <td>54</td>\n",
       "      <td>Yes</td>\n",
       "      <td>...</td>\n",
       "      <td>1</td>\n",
       "      <td>0</td>\n",
       "      <td>1</td>\n",
       "      <td>0</td>\n",
       "      <td>1</td>\n",
       "      <td>0</td>\n",
       "      <td>0</td>\n",
       "      <td>0</td>\n",
       "      <td>1</td>\n",
       "      <td>0</td>\n",
       "    </tr>\n",
       "    <tr>\n",
       "      <th>6596</th>\n",
       "      <td>1</td>\n",
       "      <td>1</td>\n",
       "      <td>1</td>\n",
       "      <td>9373-WSLOY</td>\n",
       "      <td>Male</td>\n",
       "      <td>1</td>\n",
       "      <td>Yes</td>\n",
       "      <td>No</td>\n",
       "      <td>33</td>\n",
       "      <td>No</td>\n",
       "      <td>...</td>\n",
       "      <td>1</td>\n",
       "      <td>0</td>\n",
       "      <td>0</td>\n",
       "      <td>0</td>\n",
       "      <td>0</td>\n",
       "      <td>0</td>\n",
       "      <td>0</td>\n",
       "      <td>0</td>\n",
       "      <td>1</td>\n",
       "      <td>0</td>\n",
       "    </tr>\n",
       "    <tr>\n",
       "      <th>5340</th>\n",
       "      <td>3</td>\n",
       "      <td>2</td>\n",
       "      <td>2</td>\n",
       "      <td>7544-ZVIKX</td>\n",
       "      <td>Male</td>\n",
       "      <td>0</td>\n",
       "      <td>Yes</td>\n",
       "      <td>Yes</td>\n",
       "      <td>58</td>\n",
       "      <td>Yes</td>\n",
       "      <td>...</td>\n",
       "      <td>1</td>\n",
       "      <td>0</td>\n",
       "      <td>1</td>\n",
       "      <td>1</td>\n",
       "      <td>0</td>\n",
       "      <td>1</td>\n",
       "      <td>0</td>\n",
       "      <td>0</td>\n",
       "      <td>0</td>\n",
       "      <td>0</td>\n",
       "    </tr>\n",
       "    <tr>\n",
       "      <th>5311</th>\n",
       "      <td>4</td>\n",
       "      <td>2</td>\n",
       "      <td>1</td>\n",
       "      <td>7503-QQRVF</td>\n",
       "      <td>Male</td>\n",
       "      <td>1</td>\n",
       "      <td>Yes</td>\n",
       "      <td>No</td>\n",
       "      <td>16</td>\n",
       "      <td>Yes</td>\n",
       "      <td>...</td>\n",
       "      <td>0</td>\n",
       "      <td>0</td>\n",
       "      <td>0</td>\n",
       "      <td>0</td>\n",
       "      <td>0</td>\n",
       "      <td>1</td>\n",
       "      <td>0</td>\n",
       "      <td>1</td>\n",
       "      <td>0</td>\n",
       "      <td>0</td>\n",
       "    </tr>\n",
       "    <tr>\n",
       "      <th>3328</th>\n",
       "      <td>1</td>\n",
       "      <td>2</td>\n",
       "      <td>1</td>\n",
       "      <td>4741-WWJQZ</td>\n",
       "      <td>Female</td>\n",
       "      <td>0</td>\n",
       "      <td>Yes</td>\n",
       "      <td>No</td>\n",
       "      <td>2</td>\n",
       "      <td>Yes</td>\n",
       "      <td>...</td>\n",
       "      <td>0</td>\n",
       "      <td>0</td>\n",
       "      <td>0</td>\n",
       "      <td>0</td>\n",
       "      <td>0</td>\n",
       "      <td>1</td>\n",
       "      <td>0</td>\n",
       "      <td>0</td>\n",
       "      <td>1</td>\n",
       "      <td>0</td>\n",
       "    </tr>\n",
       "    <tr>\n",
       "      <th>...</th>\n",
       "      <td>...</td>\n",
       "      <td>...</td>\n",
       "      <td>...</td>\n",
       "      <td>...</td>\n",
       "      <td>...</td>\n",
       "      <td>...</td>\n",
       "      <td>...</td>\n",
       "      <td>...</td>\n",
       "      <td>...</td>\n",
       "      <td>...</td>\n",
       "      <td>...</td>\n",
       "      <td>...</td>\n",
       "      <td>...</td>\n",
       "      <td>...</td>\n",
       "      <td>...</td>\n",
       "      <td>...</td>\n",
       "      <td>...</td>\n",
       "      <td>...</td>\n",
       "      <td>...</td>\n",
       "      <td>...</td>\n",
       "      <td>...</td>\n",
       "    </tr>\n",
       "    <tr>\n",
       "      <th>1246</th>\n",
       "      <td>3</td>\n",
       "      <td>2</td>\n",
       "      <td>1</td>\n",
       "      <td>1845-CSBRZ</td>\n",
       "      <td>Female</td>\n",
       "      <td>1</td>\n",
       "      <td>Yes</td>\n",
       "      <td>Yes</td>\n",
       "      <td>22</td>\n",
       "      <td>Yes</td>\n",
       "      <td>...</td>\n",
       "      <td>1</td>\n",
       "      <td>0</td>\n",
       "      <td>0</td>\n",
       "      <td>0</td>\n",
       "      <td>0</td>\n",
       "      <td>1</td>\n",
       "      <td>0</td>\n",
       "      <td>0</td>\n",
       "      <td>0</td>\n",
       "      <td>0</td>\n",
       "    </tr>\n",
       "    <tr>\n",
       "      <th>6495</th>\n",
       "      <td>1</td>\n",
       "      <td>1</td>\n",
       "      <td>2</td>\n",
       "      <td>9209-NWPGU</td>\n",
       "      <td>Male</td>\n",
       "      <td>0</td>\n",
       "      <td>No</td>\n",
       "      <td>No</td>\n",
       "      <td>44</td>\n",
       "      <td>Yes</td>\n",
       "      <td>...</td>\n",
       "      <td>1</td>\n",
       "      <td>0</td>\n",
       "      <td>0</td>\n",
       "      <td>1</td>\n",
       "      <td>0</td>\n",
       "      <td>0</td>\n",
       "      <td>0</td>\n",
       "      <td>0</td>\n",
       "      <td>1</td>\n",
       "      <td>0</td>\n",
       "    </tr>\n",
       "    <tr>\n",
       "      <th>5616</th>\n",
       "      <td>2</td>\n",
       "      <td>1</td>\n",
       "      <td>1</td>\n",
       "      <td>7909-FIOIY</td>\n",
       "      <td>Female</td>\n",
       "      <td>0</td>\n",
       "      <td>Yes</td>\n",
       "      <td>Yes</td>\n",
       "      <td>19</td>\n",
       "      <td>No</td>\n",
       "      <td>...</td>\n",
       "      <td>0</td>\n",
       "      <td>0</td>\n",
       "      <td>0</td>\n",
       "      <td>0</td>\n",
       "      <td>0</td>\n",
       "      <td>0</td>\n",
       "      <td>0</td>\n",
       "      <td>0</td>\n",
       "      <td>0</td>\n",
       "      <td>1</td>\n",
       "    </tr>\n",
       "    <tr>\n",
       "      <th>6830</th>\n",
       "      <td>2</td>\n",
       "      <td>2</td>\n",
       "      <td>1</td>\n",
       "      <td>9701-CDXHR</td>\n",
       "      <td>Female</td>\n",
       "      <td>0</td>\n",
       "      <td>Yes</td>\n",
       "      <td>No</td>\n",
       "      <td>51</td>\n",
       "      <td>Yes</td>\n",
       "      <td>...</td>\n",
       "      <td>0</td>\n",
       "      <td>0</td>\n",
       "      <td>0</td>\n",
       "      <td>0</td>\n",
       "      <td>0</td>\n",
       "      <td>1</td>\n",
       "      <td>0</td>\n",
       "      <td>0</td>\n",
       "      <td>0</td>\n",
       "      <td>1</td>\n",
       "    </tr>\n",
       "    <tr>\n",
       "      <th>4463</th>\n",
       "      <td>3</td>\n",
       "      <td>3</td>\n",
       "      <td>3</td>\n",
       "      <td>6292-TOSSS</td>\n",
       "      <td>Male</td>\n",
       "      <td>0</td>\n",
       "      <td>No</td>\n",
       "      <td>No</td>\n",
       "      <td>50</td>\n",
       "      <td>Yes</td>\n",
       "      <td>...</td>\n",
       "      <td>0</td>\n",
       "      <td>1</td>\n",
       "      <td>0</td>\n",
       "      <td>0</td>\n",
       "      <td>1</td>\n",
       "      <td>0</td>\n",
       "      <td>1</td>\n",
       "      <td>0</td>\n",
       "      <td>0</td>\n",
       "      <td>0</td>\n",
       "    </tr>\n",
       "  </tbody>\n",
       "</table>\n",
       "<p>5273 rows × 51 columns</p>\n",
       "</div>"
      ],
      "text/plain": [
       "      payment_type_id  internet_service_type_id  contract_type_id customer_id  \\\n",
       "5783                1                         1                 3  8144-DGHXP   \n",
       "6596                1                         1                 1  9373-WSLOY   \n",
       "5340                3                         2                 2  7544-ZVIKX   \n",
       "5311                4                         2                 1  7503-QQRVF   \n",
       "3328                1                         2                 1  4741-WWJQZ   \n",
       "...               ...                       ...               ...         ...   \n",
       "1246                3                         2                 1  1845-CSBRZ   \n",
       "6495                1                         1                 2  9209-NWPGU   \n",
       "5616                2                         1                 1  7909-FIOIY   \n",
       "6830                2                         2                 1  9701-CDXHR   \n",
       "4463                3                         3                 3  6292-TOSSS   \n",
       "\n",
       "      gender  senior_citizen partner dependents  tenure phone_service  ...  \\\n",
       "5783  Female               0      No         No      54           Yes  ...   \n",
       "6596    Male               1     Yes         No      33            No  ...   \n",
       "5340    Male               0     Yes        Yes      58           Yes  ...   \n",
       "5311    Male               1     Yes         No      16           Yes  ...   \n",
       "3328  Female               0     Yes         No       2           Yes  ...   \n",
       "...      ...             ...     ...        ...     ...           ...  ...   \n",
       "1246  Female               1     Yes        Yes      22           Yes  ...   \n",
       "6495    Male               0      No         No      44           Yes  ...   \n",
       "5616  Female               0     Yes        Yes      19            No  ...   \n",
       "6830  Female               0     Yes         No      51           Yes  ...   \n",
       "4463    Male               0      No         No      50           Yes  ...   \n",
       "\n",
       "     streaming_tv_Yes streaming_movies_No internet service  \\\n",
       "5783                1                                    0   \n",
       "6596                1                                    0   \n",
       "5340                1                                    0   \n",
       "5311                0                                    0   \n",
       "3328                0                                    0   \n",
       "...               ...                                  ...   \n",
       "1246                1                                    0   \n",
       "6495                1                                    0   \n",
       "5616                0                                    0   \n",
       "6830                0                                    0   \n",
       "4463                0                                    1   \n",
       "\n",
       "     streaming_movies_Yes contract_type_One year contract_type_Two year  \\\n",
       "5783                    1                      0                      1   \n",
       "6596                    0                      0                      0   \n",
       "5340                    1                      1                      0   \n",
       "5311                    0                      0                      0   \n",
       "3328                    0                      0                      0   \n",
       "...                   ...                    ...                    ...   \n",
       "1246                    0                      0                      0   \n",
       "6495                    0                      1                      0   \n",
       "5616                    0                      0                      0   \n",
       "6830                    0                      0                      0   \n",
       "4463                    0                      0                      1   \n",
       "\n",
       "     internet_service_type_Fiber optic internet_service_type_None  \\\n",
       "5783                                 0                          0   \n",
       "6596                                 0                          0   \n",
       "5340                                 1                          0   \n",
       "5311                                 1                          0   \n",
       "3328                                 1                          0   \n",
       "...                                ...                        ...   \n",
       "1246                                 1                          0   \n",
       "6495                                 0                          0   \n",
       "5616                                 0                          0   \n",
       "6830                                 1                          0   \n",
       "4463                                 0                          1   \n",
       "\n",
       "     payment_type_Credit card (automatic)  payment_type_Electronic check  \\\n",
       "5783                                    0                              1   \n",
       "6596                                    0                              1   \n",
       "5340                                    0                              0   \n",
       "5311                                    1                              0   \n",
       "3328                                    0                              1   \n",
       "...                                   ...                            ...   \n",
       "1246                                    0                              0   \n",
       "6495                                    0                              1   \n",
       "5616                                    0                              0   \n",
       "6830                                    0                              0   \n",
       "4463                                    0                              0   \n",
       "\n",
       "      payment_type_Mailed check  \n",
       "5783                          0  \n",
       "6596                          0  \n",
       "5340                          0  \n",
       "5311                          0  \n",
       "3328                          0  \n",
       "...                         ...  \n",
       "1246                          0  \n",
       "6495                          0  \n",
       "5616                          1  \n",
       "6830                          1  \n",
       "4463                          0  \n",
       "\n",
       "[5273 rows x 51 columns]"
      ]
     },
     "execution_count": 23,
     "metadata": {},
     "output_type": "execute_result"
    }
   ],
   "source": [
    "train"
   ]
  },
  {
   "cell_type": "code",
   "execution_count": 24,
   "id": "7a1b88c0",
   "metadata": {},
   "outputs": [
    {
     "data": {
      "text/html": [
       "<div>\n",
       "<style scoped>\n",
       "    .dataframe tbody tr th:only-of-type {\n",
       "        vertical-align: middle;\n",
       "    }\n",
       "\n",
       "    .dataframe tbody tr th {\n",
       "        vertical-align: top;\n",
       "    }\n",
       "\n",
       "    .dataframe thead th {\n",
       "        text-align: right;\n",
       "    }\n",
       "</style>\n",
       "<table border=\"1\" class=\"dataframe\">\n",
       "  <thead>\n",
       "    <tr style=\"text-align: right;\">\n",
       "      <th></th>\n",
       "      <th>tech_support_Yes</th>\n",
       "      <th>contract_type_One year</th>\n",
       "      <th>contract_type_Two year</th>\n",
       "      <th>internet_service_type_Fiber optic</th>\n",
       "    </tr>\n",
       "  </thead>\n",
       "  <tbody>\n",
       "    <tr>\n",
       "      <th>5783</th>\n",
       "      <td>1</td>\n",
       "      <td>0</td>\n",
       "      <td>1</td>\n",
       "      <td>0</td>\n",
       "    </tr>\n",
       "    <tr>\n",
       "      <th>6596</th>\n",
       "      <td>1</td>\n",
       "      <td>0</td>\n",
       "      <td>0</td>\n",
       "      <td>0</td>\n",
       "    </tr>\n",
       "    <tr>\n",
       "      <th>5340</th>\n",
       "      <td>1</td>\n",
       "      <td>1</td>\n",
       "      <td>0</td>\n",
       "      <td>1</td>\n",
       "    </tr>\n",
       "    <tr>\n",
       "      <th>5311</th>\n",
       "      <td>0</td>\n",
       "      <td>0</td>\n",
       "      <td>0</td>\n",
       "      <td>1</td>\n",
       "    </tr>\n",
       "    <tr>\n",
       "      <th>3328</th>\n",
       "      <td>1</td>\n",
       "      <td>0</td>\n",
       "      <td>0</td>\n",
       "      <td>1</td>\n",
       "    </tr>\n",
       "    <tr>\n",
       "      <th>...</th>\n",
       "      <td>...</td>\n",
       "      <td>...</td>\n",
       "      <td>...</td>\n",
       "      <td>...</td>\n",
       "    </tr>\n",
       "    <tr>\n",
       "      <th>1246</th>\n",
       "      <td>0</td>\n",
       "      <td>0</td>\n",
       "      <td>0</td>\n",
       "      <td>1</td>\n",
       "    </tr>\n",
       "    <tr>\n",
       "      <th>6495</th>\n",
       "      <td>1</td>\n",
       "      <td>1</td>\n",
       "      <td>0</td>\n",
       "      <td>0</td>\n",
       "    </tr>\n",
       "    <tr>\n",
       "      <th>5616</th>\n",
       "      <td>0</td>\n",
       "      <td>0</td>\n",
       "      <td>0</td>\n",
       "      <td>0</td>\n",
       "    </tr>\n",
       "    <tr>\n",
       "      <th>6830</th>\n",
       "      <td>0</td>\n",
       "      <td>0</td>\n",
       "      <td>0</td>\n",
       "      <td>1</td>\n",
       "    </tr>\n",
       "    <tr>\n",
       "      <th>4463</th>\n",
       "      <td>0</td>\n",
       "      <td>0</td>\n",
       "      <td>1</td>\n",
       "      <td>0</td>\n",
       "    </tr>\n",
       "  </tbody>\n",
       "</table>\n",
       "<p>5273 rows × 4 columns</p>\n",
       "</div>"
      ],
      "text/plain": [
       "      tech_support_Yes  contract_type_One year  contract_type_Two year  \\\n",
       "5783                 1                       0                       1   \n",
       "6596                 1                       0                       0   \n",
       "5340                 1                       1                       0   \n",
       "5311                 0                       0                       0   \n",
       "3328                 1                       0                       0   \n",
       "...                ...                     ...                     ...   \n",
       "1246                 0                       0                       0   \n",
       "6495                 1                       1                       0   \n",
       "5616                 0                       0                       0   \n",
       "6830                 0                       0                       0   \n",
       "4463                 0                       0                       1   \n",
       "\n",
       "      internet_service_type_Fiber optic  \n",
       "5783                                  0  \n",
       "6596                                  0  \n",
       "5340                                  1  \n",
       "5311                                  1  \n",
       "3328                                  1  \n",
       "...                                 ...  \n",
       "1246                                  1  \n",
       "6495                                  0  \n",
       "5616                                  0  \n",
       "6830                                  1  \n",
       "4463                                  0  \n",
       "\n",
       "[5273 rows x 4 columns]"
      ]
     },
     "execution_count": 24,
     "metadata": {},
     "output_type": "execute_result"
    }
   ],
   "source": [
    "#Selected the columns I will use for model \n",
    "features = ['tech_support_Yes','contract_type_One year', 'contract_type_Two year','internet_service_type_Fiber optic',]\n",
    "X_train = train[features]\n",
    "X_train"
   ]
  },
  {
   "cell_type": "code",
   "execution_count": 25,
   "id": "caaa5da8",
   "metadata": {
    "scrolled": true
   },
   "outputs": [
    {
     "data": {
      "text/plain": [
       "['payment_type_id',\n",
       " 'internet_service_type_id',\n",
       " 'contract_type_id',\n",
       " 'customer_id',\n",
       " 'gender',\n",
       " 'senior_citizen',\n",
       " 'partner',\n",
       " 'dependents',\n",
       " 'tenure',\n",
       " 'phone_service',\n",
       " 'multiple_lines',\n",
       " 'online_security',\n",
       " 'online_backup',\n",
       " 'device_protection',\n",
       " 'tech_support',\n",
       " 'streaming_tv',\n",
       " 'streaming_movies',\n",
       " 'paperless_billing',\n",
       " 'monthly_charges',\n",
       " 'total_charges',\n",
       " 'churn',\n",
       " 'contract_type',\n",
       " 'internet_service_type',\n",
       " 'payment_type',\n",
       " 'is_female',\n",
       " 'has_partner',\n",
       " 'has_dependents',\n",
       " 'has_phone_service',\n",
       " 'has_paperless_billing',\n",
       " 'has_churned',\n",
       " 'multiple_lines_No phone service',\n",
       " 'multiple_lines_Yes',\n",
       " 'online_security_No internet service',\n",
       " 'online_security_Yes',\n",
       " 'online_backup_No internet service',\n",
       " 'online_backup_Yes',\n",
       " 'device_protection_No internet service',\n",
       " 'device_protection_Yes',\n",
       " 'tech_support_No internet service',\n",
       " 'tech_support_Yes',\n",
       " 'streaming_tv_No internet service',\n",
       " 'streaming_tv_Yes',\n",
       " 'streaming_movies_No internet service',\n",
       " 'streaming_movies_Yes',\n",
       " 'contract_type_One year',\n",
       " 'contract_type_Two year',\n",
       " 'internet_service_type_Fiber optic',\n",
       " 'internet_service_type_None',\n",
       " 'payment_type_Credit card (automatic)',\n",
       " 'payment_type_Electronic check',\n",
       " 'payment_type_Mailed check']"
      ]
     },
     "execution_count": 25,
     "metadata": {},
     "output_type": "execute_result"
    }
   ],
   "source": [
    "#look at all columns \n",
    "list(train.columns)"
   ]
  },
  {
   "cell_type": "code",
   "execution_count": 26,
   "id": "16b7a5eb",
   "metadata": {},
   "outputs": [],
   "source": [
    "\n",
    "features = ['tech_support_Yes','contract_type_One year', 'contract_type_Two year','internet_service_type_Fiber optic',]\n",
    "X_train = train[features]\n",
    "y_train = train['has_churned']\n"
   ]
  },
  {
   "cell_type": "markdown",
   "id": "b00c03fd",
   "metadata": {},
   "source": [
    "1. What is your baseline prediction? What is your baseline accuracy? remember: your baseline prediction for a classification problem is predicting the most prevelant class in the training dataset (the mode). When you make those predictions, what is your accuracy? This is your baseline accuracy."
   ]
  },
  {
   "cell_type": "code",
   "execution_count": 27,
   "id": "85066d09",
   "metadata": {},
   "outputs": [
    {
     "data": {
      "text/plain": [
       "0    3871\n",
       "1    1402\n",
       "Name: has_churned, dtype: int64"
      ]
     },
     "execution_count": 27,
     "metadata": {},
     "output_type": "execute_result"
    }
   ],
   "source": [
    "y_train.value_counts()"
   ]
  },
  {
   "cell_type": "code",
   "execution_count": 28,
   "id": "c075de03",
   "metadata": {},
   "outputs": [
    {
     "name": "stdout",
     "output_type": "stream",
     "text": [
      "Baseline accuracy: 0.73\n"
     ]
    }
   ],
   "source": [
    "# The mode is a great baseline\n",
    "baseline = y_train.mode()\n",
    "\n",
    "# Produce a boolean array with True representing a match between the baseline prediction and reality\n",
    "matches_baseline_prediction = (y_train == 0)\n",
    "\n",
    "baseline_accuracy = matches_baseline_prediction.mean()\n",
    "print(f\"Baseline accuracy: {round(baseline_accuracy, 2)}\")"
   ]
  },
  {
   "cell_type": "markdown",
   "id": "b926e2fe",
   "metadata": {},
   "source": [
    "Below is where I am fitting my decision tree classifier to my training sample "
   ]
  },
  {
   "cell_type": "code",
   "execution_count": 29,
   "id": "27aa9a1d",
   "metadata": {},
   "outputs": [],
   "source": [
    "# Make the model\n",
    "tree1 = DecisionTreeClassifier(max_depth=3, random_state=100)\n",
    "\n",
    "# Fit the model (on train and only train)\n",
    "tree1 = tree1.fit(X_train, y_train)\n",
    "\n",
    "# Evaluating model on training sample\n",
    "y_predictions = tree1.predict(X_train)"
   ]
  },
  {
   "cell_type": "code",
   "execution_count": 30,
   "id": "69c50988",
   "metadata": {
    "scrolled": true
   },
   "outputs": [
    {
     "data": {
      "image/png": "[encoded data removed]",
      "text/plain": [
       "<Figure size 864x504 with 1 Axes>"
      ]
     },
     "metadata": {
      "needs_background": "light"
     },
     "output_type": "display_data"
    }
   ],
   "source": [
    "plt.figure(figsize=(12, 7))\n",
    "plot_tree(tree1, feature_names=X_train.columns, class_names=['0','1'])\n",
    "plt.show()"
   ]
  },
  {
   "cell_type": "markdown",
   "id": "2e22bd92",
   "metadata": {},
   "source": [
    "Evaluating in-sample results using the model score, confusion matrix, and classification report."
   ]
  },
  {
   "cell_type": "code",
   "execution_count": 31,
   "id": "bc2d7711",
   "metadata": {},
   "outputs": [
    {
     "name": "stdout",
     "output_type": "stream",
     "text": [
      "Accuracy of Decision Tree classifier on training set: 0.77\n"
     ]
    }
   ],
   "source": [
    "print('Accuracy of Decision Tree classifier on training set: {:.2f}'\n",
    "      .format(tree1.score(X_train, y_train)))"
   ]
  },
  {
   "cell_type": "code",
   "execution_count": 32,
   "id": "0821f166",
   "metadata": {},
   "outputs": [
    {
     "name": "stderr",
     "output_type": "stream",
     "text": [
      "/opt/homebrew/anaconda3/lib/python3.9/site-packages/sklearn/utils/deprecation.py:87: FutureWarning: Function plot_confusion_matrix is deprecated; Function `plot_confusion_matrix` is deprecated in 1.0 and will be removed in 1.2. Use one of the class methods: ConfusionMatrixDisplay.from_predictions or ConfusionMatrixDisplay.from_estimator.\n",
      "  warnings.warn(msg, category=FutureWarning)\n"
     ]
    },
    {
     "data": {
      "text/plain": [
       "<sklearn.metrics._plot.confusion_matrix.ConfusionMatrixDisplay at 0x1681d5ee0>"
      ]
     },
     "execution_count": 32,
     "metadata": {},
     "output_type": "execute_result"
    },
    {
     "data": {
      "image/png": "[encoded data removed]",
      "text/plain": [
       "<Figure size 432x288 with 2 Axes>"
      ]
     },
     "metadata": {
      "needs_background": "light"
     },
     "output_type": "display_data"
    }
   ],
   "source": [
    "plot_confusion_matrix(tree1, X_train, y_train)\n"
   ]
  },
  {
   "cell_type": "code",
   "execution_count": 33,
   "id": "a62c8ded",
   "metadata": {},
   "outputs": [
    {
     "name": "stdout",
     "output_type": "stream",
     "text": [
      "              precision    recall  f1-score   support\n",
      "\n",
      "           0       0.86      0.82      0.84      3871\n",
      "           1       0.55      0.62      0.59      1402\n",
      "\n",
      "    accuracy                           0.77      5273\n",
      "   macro avg       0.71      0.72      0.71      5273\n",
      "weighted avg       0.78      0.77      0.77      5273\n",
      "\n"
     ]
    }
   ],
   "source": [
    "print(classification_report(y_train, y_predictions))\n"
   ]
  },
  {
   "cell_type": "code",
   "execution_count": 34,
   "id": "43f2d8d1",
   "metadata": {},
   "outputs": [
    {
     "name": "stdout",
     "output_type": "stream",
     "text": [
      "Tree of 1 depth\n"
     ]
    },
    {
     "data": {
      "text/html": [
       "<div>\n",
       "<style scoped>\n",
       "    .dataframe tbody tr th:only-of-type {\n",
       "        vertical-align: middle;\n",
       "    }\n",
       "\n",
       "    .dataframe tbody tr th {\n",
       "        vertical-align: top;\n",
       "    }\n",
       "\n",
       "    .dataframe thead th {\n",
       "        text-align: right;\n",
       "    }\n",
       "</style>\n",
       "<table border=\"1\" class=\"dataframe\">\n",
       "  <thead>\n",
       "    <tr style=\"text-align: right;\">\n",
       "      <th></th>\n",
       "      <th>0</th>\n",
       "      <th>1</th>\n",
       "      <th>accuracy</th>\n",
       "      <th>macro avg</th>\n",
       "      <th>weighted avg</th>\n",
       "    </tr>\n",
       "  </thead>\n",
       "  <tbody>\n",
       "    <tr>\n",
       "      <th>precision</th>\n",
       "      <td>0.857375</td>\n",
       "      <td>0.554499</td>\n",
       "      <td>0.766736</td>\n",
       "      <td>0.705937</td>\n",
       "      <td>0.776845</td>\n",
       "    </tr>\n",
       "    <tr>\n",
       "      <th>recall</th>\n",
       "      <td>0.818393</td>\n",
       "      <td>0.624108</td>\n",
       "      <td>0.766736</td>\n",
       "      <td>0.721251</td>\n",
       "      <td>0.766736</td>\n",
       "    </tr>\n",
       "    <tr>\n",
       "      <th>f1-score</th>\n",
       "      <td>0.837431</td>\n",
       "      <td>0.587248</td>\n",
       "      <td>0.766736</td>\n",
       "      <td>0.712339</td>\n",
       "      <td>0.770911</td>\n",
       "    </tr>\n",
       "    <tr>\n",
       "      <th>support</th>\n",
       "      <td>3871.000000</td>\n",
       "      <td>1402.000000</td>\n",
       "      <td>0.766736</td>\n",
       "      <td>5273.000000</td>\n",
       "      <td>5273.000000</td>\n",
       "    </tr>\n",
       "  </tbody>\n",
       "</table>\n",
       "</div>"
      ],
      "text/plain": [
       "                     0            1  accuracy    macro avg  weighted avg\n",
       "precision     0.857375     0.554499  0.766736     0.705937      0.776845\n",
       "recall        0.818393     0.624108  0.766736     0.721251      0.766736\n",
       "f1-score      0.837431     0.587248  0.766736     0.712339      0.770911\n",
       "support    3871.000000  1402.000000  0.766736  5273.000000   5273.000000"
      ]
     },
     "execution_count": 34,
     "metadata": {},
     "output_type": "execute_result"
    }
   ],
   "source": [
    "# Classification report on actual y values and  model's predicted y values\n",
    "report = classification_report(y_train, y_predictions, output_dict=True)\n",
    "print(\"Tree of 1 depth\")\n",
    "pd.DataFrame(report)"
   ]
  },
  {
   "cell_type": "code",
   "execution_count": 35,
   "id": "3ba3d58c",
   "metadata": {},
   "outputs": [
    {
     "data": {
      "text/plain": [
       "(3168, 703, 527, 875)"
      ]
     },
     "execution_count": 35,
     "metadata": {},
     "output_type": "execute_result"
    }
   ],
   "source": [
    "#Priting values of True Negative, False Positive, False Negative and True Positive \n",
    "# True Negative is predict don't churn and they don't churn \n",
    "# False Positive is predict they don't churn and they do \n",
    "# False Negative is predict they don't churn and they churn\n",
    "# True positive is predict they churn and they churn\n",
    "\n",
    "TN, FP, FN, TP = confusion_matrix(y_train, y_predictions).ravel()\n",
    "\n",
    "TN, FP, FN, TP"
   ]
  },
  {
   "cell_type": "code",
   "execution_count": 36,
   "id": "6f55b1a2",
   "metadata": {},
   "outputs": [
    {
     "name": "stdout",
     "output_type": "stream",
     "text": [
      "Negative Cases: 3871\n",
      "Positive Cases: 1402\n",
      "0    3871\n",
      "1    1402\n",
      "Name: has_churned, dtype: int64\n"
     ]
    }
   ],
   "source": [
    "negative_cases = TN + FP\n",
    "positive_cases = FN + TP\n",
    "print(f\"Negative Cases: {negative_cases}\")\n",
    "print(f\"Positive Cases: {positive_cases}\")\n",
    "print(y_train.value_counts())"
   ]
  },
  {
   "cell_type": "markdown",
   "id": "a0701334",
   "metadata": {},
   "source": [
    "Have designated churn as positive case"
   ]
  },
  {
   "cell_type": "code",
   "execution_count": 37,
   "id": "e77a968c",
   "metadata": {},
   "outputs": [
    {
     "name": "stdout",
     "output_type": "stream",
     "text": [
      "Accuracy: 0.7667362032998293 \n",
      "\n",
      "True Positive Rate/Sensitivity/Recall/Power: 0.6241084165477889 \n",
      "\n",
      "False Positive Rate/False Alarm Ratio/Fall-out: 0.18160681994316713 \n",
      "\n",
      "True Negative Rate/Specificity/Selectivity: 0.8183931800568328 \n",
      "\n",
      "False Negative Rate/Miss Rate: 0.37589158345221113 \n",
      "\n",
      "Precision/PPV: 0.5544993662864385 \n",
      "\n",
      "F1 Score: 0.587248322147651 \n",
      "\n",
      "Support (0): 3871 \n",
      "\n",
      "Support (1): 1402\n"
     ]
    }
   ],
   "source": [
    "#Transforming classification metrics into more readable format\n",
    "\n",
    "ALL = TP + FP + FN + TN\n",
    "\n",
    "accuracy = (TP + TN)/ALL\n",
    "true_positive_rate = sensitivity = recall = power = TP/(TP+FN)\n",
    "false_positive_rate = false_alarm_ratio = fallout = FP/(FP+TN)\n",
    "true_negative_rate = specificity = selectivity = TN/(TN+FP)\n",
    "false_negative_rate = miss_rate = FN/(FN+TP)\n",
    "precision = PPV = TP/(TP+FP)\n",
    "f1_score = 2*(precision*recall)/(precision+recall)\n",
    "support_pos = TP + FN\n",
    "support_neg = FP + TN\n",
    "\n",
    "print(f\"Accuracy: {accuracy}\", '\\n')\n",
    "print(f\"True Positive Rate/Sensitivity/Recall/Power: {true_positive_rate}\", '\\n')\n",
    "print(f\"False Positive Rate/False Alarm Ratio/Fall-out: {false_positive_rate}\", '\\n')\n",
    "print(f\"True Negative Rate/Specificity/Selectivity: {true_negative_rate}\", '\\n')\n",
    "print(f\"False Negative Rate/Miss Rate: {false_negative_rate}\", '\\n')\n",
    "print(f\"Precision/PPV: {precision}\", '\\n')\n",
    "print(f\"F1 Score: {f1_score}\", '\\n')\n",
    "print(f\"Support (0): {support_neg}\", '\\n')\n",
    "print(f\"Support (1): {support_pos}\")"
   ]
  },
  {
   "cell_type": "markdown",
   "id": "a92615fa",
   "metadata": {},
   "source": [
    "# Model 2 Random Forrest \n"
   ]
  },
  {
   "cell_type": "code",
   "execution_count": 38,
   "id": "bee8ece8",
   "metadata": {},
   "outputs": [],
   "source": [
    "# creating Random Forrest classifier, algorithm\n",
    "\n",
    "rf = RandomForestClassifier(\n",
    "    min_samples_leaf=1, \n",
    "    max_depth=10, \n",
    "    random_state=100\n",
    ")"
   ]
  },
  {
   "cell_type": "code",
   "execution_count": 39,
   "id": "9d9f8636",
   "metadata": {},
   "outputs": [
    {
     "data": {
      "text/plain": [
       "RandomForestClassifier(max_depth=10, random_state=100)"
      ]
     },
     "execution_count": 39,
     "metadata": {},
     "output_type": "execute_result"
    }
   ],
   "source": [
    "# Fit model to sample data\n",
    "\n",
    "rf.fit(X_train, y_train)\n"
   ]
  },
  {
   "cell_type": "code",
   "execution_count": 40,
   "id": "5ee1ca0d",
   "metadata": {},
   "outputs": [],
   "source": [
    "#creating predictions from training sample \n",
    "y_preds = rf.predict(X_train)"
   ]
  },
  {
   "cell_type": "markdown",
   "id": "f7781f62",
   "metadata": {},
   "source": [
    "Evaluating in-sample results using the model score, confusion matrix, and classification report."
   ]
  },
  {
   "cell_type": "code",
   "execution_count": 41,
   "id": "88642c29",
   "metadata": {},
   "outputs": [
    {
     "data": {
      "text/plain": [
       "0.7752702446425185"
      ]
     },
     "execution_count": 41,
     "metadata": {},
     "output_type": "execute_result"
    }
   ],
   "source": [
    "rf.score(X_train, y_train)"
   ]
  },
  {
   "cell_type": "code",
   "execution_count": 42,
   "id": "3eb91a9a",
   "metadata": {},
   "outputs": [
    {
     "data": {
      "text/plain": [
       "array([[3315,  556],\n",
       "       [ 629,  773]])"
      ]
     },
     "execution_count": 42,
     "metadata": {},
     "output_type": "execute_result"
    }
   ],
   "source": [
    "#confusion array \n",
    "confusion_matrix(y_train, y_preds)"
   ]
  },
  {
   "cell_type": "code",
   "execution_count": 43,
   "id": "baba5d76",
   "metadata": {},
   "outputs": [
    {
     "name": "stdout",
     "output_type": "stream",
     "text": [
      "              precision    recall  f1-score   support\n",
      "\n",
      "           0       0.84      0.86      0.85      3871\n",
      "           1       0.58      0.55      0.57      1402\n",
      "\n",
      "    accuracy                           0.78      5273\n",
      "   macro avg       0.71      0.70      0.71      5273\n",
      "weighted avg       0.77      0.78      0.77      5273\n",
      "\n"
     ]
    }
   ],
   "source": [
    "print(classification_report(y_train, y_preds))\n"
   ]
  },
  {
   "cell_type": "markdown",
   "id": "ebae8bcd",
   "metadata": {},
   "source": [
    "####  Transforming Accuracy, true positive rate, false positive rate, true negative rate, false negative rate, precision, recall, f1-score, and support into more reader friendly format\n"
   ]
  },
  {
   "cell_type": "code",
   "execution_count": 44,
   "id": "c3622861",
   "metadata": {},
   "outputs": [
    {
     "name": "stdout",
     "output_type": "stream",
     "text": [
      "Accuracy: 0.7752702446425185\n",
      "True Positive Rate: 0.551355206847361\n",
      "False Positive Rate: 0.14363213639886335\n",
      "True Negative Rate: 0.8563678636011367\n",
      "False Negative Rate: 0.4486447931526391\n",
      "Precision: 0.581640331075997\n",
      "Recall: 0.551355206847361\n",
      "F1 Score: 0.5660930062248261\n",
      "Support (0): 1402\n",
      "Support (1): 3871\n"
     ]
    }
   ],
   "source": [
    "TN, FP, FN, TP = confusion_matrix(y_train,y_preds).ravel()\n",
    "ALL = TP + TN + FP + FN\n",
    "\n",
    "TP, TN, FP, FN, ALL\n",
    "\n",
    "accuracy = (TP + TN)/ALL\n",
    "print(f\"Accuracy: {accuracy}\")\n",
    "\n",
    "true_positive_rate = TP/(TP+FN)\n",
    "print(f\"True Positive Rate: {true_positive_rate}\")\n",
    "\n",
    "false_positive_rate = FP/(FP+TN)\n",
    "print(f\"False Positive Rate: {false_positive_rate}\")\n",
    "\n",
    "true_negative_rate = TN/(TN+FP)\n",
    "print(f\"True Negative Rate: {true_negative_rate}\")\n",
    "\n",
    "false_negative_rate = FN/(FN+TP)\n",
    "print(f\"False Negative Rate: {false_negative_rate}\")\n",
    "\n",
    "precision = TP/(TP+FP)\n",
    "print(f\"Precision: {precision}\")\n",
    "\n",
    "recall = TP/(TP+FN)\n",
    "print(f\"Recall: {recall}\")\n",
    "\n",
    "f1_score = 2*(precision*recall)/(precision+recall)\n",
    "print(f\"F1 Score: {f1_score}\")\n",
    "\n",
    "support_pos = TP + FN\n",
    "print(f\"Support (0): {support_pos}\")\n",
    "\n",
    "support_neg = FP + TN\n",
    "print(f\"Support (1): {support_neg}\")"
   ]
  },
  {
   "cell_type": "code",
   "execution_count": 45,
   "id": "19e48a3f",
   "metadata": {},
   "outputs": [],
   "source": [
    "# Attempt to optimize model \n",
    "rf = RandomForestClassifier(\n",
    "    min_samples_leaf=5, \n",
    "    max_depth=10, \n",
    "    random_state=100\n",
    ")"
   ]
  },
  {
   "cell_type": "code",
   "execution_count": 46,
   "id": "4295eda0",
   "metadata": {},
   "outputs": [
    {
     "data": {
      "text/plain": [
       "RandomForestClassifier(max_depth=10, min_samples_leaf=5, random_state=100)"
      ]
     },
     "execution_count": 46,
     "metadata": {},
     "output_type": "execute_result"
    }
   ],
   "source": [
    "# Fit model to sample data\n",
    "\n",
    "rf.fit(X_train, y_train)"
   ]
  },
  {
   "cell_type": "code",
   "execution_count": 47,
   "id": "6f387134",
   "metadata": {
    "scrolled": true
   },
   "outputs": [
    {
     "data": {
      "text/plain": [
       "0.7752702446425185"
      ]
     },
     "execution_count": 47,
     "metadata": {},
     "output_type": "execute_result"
    }
   ],
   "source": [
    "## Evaluating model on sample data \n",
    "rf.score(X_train, y_train)"
   ]
  },
  {
   "cell_type": "markdown",
   "id": "a481a7d2",
   "metadata": {},
   "source": [
    "# Model 3 KNN "
   ]
  },
  {
   "cell_type": "markdown",
   "id": "8a92fffd",
   "metadata": {},
   "source": [
    "Fitting K-Nearest Neighbors classifier to training sample and making predictions"
   ]
  },
  {
   "cell_type": "code",
   "execution_count": 48,
   "id": "bbc4da38",
   "metadata": {},
   "outputs": [
    {
     "data": {
      "text/plain": [
       "KNeighborsClassifier()"
      ]
     },
     "execution_count": 48,
     "metadata": {},
     "output_type": "execute_result"
    }
   ],
   "source": [
    "knn = KNeighborsClassifier(n_neighbors=5)\n",
    "knn"
   ]
  },
  {
   "cell_type": "code",
   "execution_count": 49,
   "id": "84e0ee72",
   "metadata": {},
   "outputs": [
    {
     "data": {
      "text/plain": [
       "KNeighborsClassifier()"
      ]
     },
     "execution_count": 49,
     "metadata": {},
     "output_type": "execute_result"
    }
   ],
   "source": [
    "knn.fit(X_train, y_train)"
   ]
  },
  {
   "cell_type": "code",
   "execution_count": 50,
   "id": "f3a66507",
   "metadata": {},
   "outputs": [
    {
     "data": {
      "text/plain": [
       "array([0, 0, 0, ..., 0, 0, 0])"
      ]
     },
     "execution_count": 50,
     "metadata": {},
     "output_type": "execute_result"
    }
   ],
   "source": [
    "y_preds = knn.predict(X_train)\n",
    "y_preds"
   ]
  },
  {
   "cell_type": "code",
   "execution_count": 51,
   "id": "630eeba9",
   "metadata": {},
   "outputs": [
    {
     "name": "stdout",
     "output_type": "stream",
     "text": [
      "Accuracy of KNN classifier on training set: 0.73\n"
     ]
    }
   ],
   "source": [
    "# Evaluating results of model, confusion matrix, and classification report.\n",
    "\n",
    "print('Accuracy of KNN classifier on training set: {:.2f}'\n",
    "     .format(knn.score(X_train, y_train)))"
   ]
  },
  {
   "cell_type": "markdown",
   "id": "c2893b07",
   "metadata": {},
   "source": [
    "# Model 4 KNN (changed features)"
   ]
  },
  {
   "cell_type": "code",
   "execution_count": 52,
   "id": "a6ea0f27",
   "metadata": {},
   "outputs": [],
   "source": [
    "# identifying columns that will be used in training for model \n",
    "features = ['internet_service_type_Fiber optic']\n",
    "y_train = train['has_churned']"
   ]
  },
  {
   "cell_type": "code",
   "execution_count": 53,
   "id": "a19a50b1",
   "metadata": {},
   "outputs": [
    {
     "data": {
      "text/plain": [
       "KNeighborsClassifier()"
      ]
     },
     "execution_count": 53,
     "metadata": {},
     "output_type": "execute_result"
    }
   ],
   "source": [
    "# call knn algorithm\n",
    "knn = KNeighborsClassifier(n_neighbors=5)\n",
    "knn"
   ]
  },
  {
   "cell_type": "code",
   "execution_count": 54,
   "id": "86f6ae19",
   "metadata": {},
   "outputs": [
    {
     "data": {
      "text/plain": [
       "KNeighborsClassifier()"
      ]
     },
     "execution_count": 54,
     "metadata": {},
     "output_type": "execute_result"
    }
   ],
   "source": [
    "# Fit training sample to model \n",
    "knn.fit(X_train, y_train)"
   ]
  },
  {
   "cell_type": "code",
   "execution_count": 55,
   "id": "6dacf0d9",
   "metadata": {},
   "outputs": [
    {
     "data": {
      "text/plain": [
       "array([0, 0, 0, ..., 0, 0, 0])"
      ]
     },
     "execution_count": 55,
     "metadata": {},
     "output_type": "execute_result"
    }
   ],
   "source": [
    "#generate predictions form train sample \n",
    "y_preds = knn.predict(X_train)\n",
    "y_preds"
   ]
  },
  {
   "cell_type": "code",
   "execution_count": 56,
   "id": "c5e837fc",
   "metadata": {},
   "outputs": [
    {
     "name": "stdout",
     "output_type": "stream",
     "text": [
      "Accuracy of KNN classifier on training set: 0.73\n"
     ]
    }
   ],
   "source": [
    "# Evaluating results of model, confusion matrix, and classification report.\n",
    "\n",
    "print('Accuracy of KNN classifier on training set: {:.2f}'\n",
    "     .format(knn.score(X_train, y_train)))"
   ]
  },
  {
   "cell_type": "code",
   "execution_count": 67,
   "id": "c8ce75bf",
   "metadata": {},
   "outputs": [
    {
     "data": {
      "text/plain": [
       "array([[3724,  147],\n",
       "       [1300,  102]])"
      ]
     },
     "execution_count": 67,
     "metadata": {},
     "output_type": "execute_result"
    }
   ],
   "source": [
    "confusion_matrix(y_train, y_preds)\n"
   ]
  },
  {
   "cell_type": "code",
   "execution_count": 58,
   "id": "198c25dc",
   "metadata": {
    "scrolled": true
   },
   "outputs": [
    {
     "name": "stdout",
     "output_type": "stream",
     "text": [
      "              precision    recall  f1-score   support\n",
      "\n",
      "           0       0.74      0.96      0.84      3871\n",
      "           1       0.41      0.07      0.12      1402\n",
      "\n",
      "    accuracy                           0.73      5273\n",
      "   macro avg       0.58      0.52      0.48      5273\n",
      "weighted avg       0.65      0.73      0.65      5273\n",
      "\n"
     ]
    }
   ],
   "source": [
    "print(classification_report(y_train, y_preds))\n"
   ]
  },
  {
   "cell_type": "markdown",
   "id": "587bee5f",
   "metadata": {},
   "source": [
    "# Model 5 Logistic Regression"
   ]
  },
  {
   "cell_type": "code",
   "execution_count": 59,
   "id": "1d5c7542",
   "metadata": {},
   "outputs": [],
   "source": [
    "features = ['tech_support_Yes','contract_type_One year', 'contract_type_Two year','internet_service_type_Fiber optic',]\n",
    "X_train = train[features]\n",
    "y_train = train['has_churned']"
   ]
  },
  {
   "cell_type": "code",
   "execution_count": 60,
   "id": "f16e57f4",
   "metadata": {},
   "outputs": [
    {
     "name": "stdout",
     "output_type": "stream",
     "text": [
      "Baseline is 0.73\n",
      "Logistic Regression using age, pclass, and fare features\n",
      "Accuracy of Logistic Regression classifier on training set: 0.78\n"
     ]
    }
   ],
   "source": [
    "# Define the logistic regression model\n",
    "\n",
    "logit = LogisticRegression(random_state=100)\n",
    "\n",
    "# Fit a model using only these specified features\n",
    "# logit.fit(X_train[[\"age\", \"pclass\", \"fare\"]], y_train)\n",
    "logit.fit(X_train[features], y_train)\n",
    "\n",
    "# Since we .fit on a subset, we .predict on that same subset of features\n",
    "y_pred = logit.predict(X_train[features])\n",
    "\n",
    "print(\"Baseline is\", round(baseline_accuracy, 2))\n",
    "print(\"Logistic Regression using age, pclass, and fare features\")\n",
    "print('Accuracy of Logistic Regression classifier on training set: {:.2f}'\n",
    "     .format(logit.score(X_train[features], y_train)))"
   ]
  },
  {
   "cell_type": "markdown",
   "id": "0c88e42a",
   "metadata": {},
   "source": [
    "# Evaluate Best Models on Validate Set "
   ]
  },
  {
   "cell_type": "code",
   "execution_count": 71,
   "id": "7a5fd836",
   "metadata": {},
   "outputs": [],
   "source": [
    "# Decision Tree Model one performance on validate \n",
    "\n",
    "#Features for Model\n",
    "features = ['tech_support_Yes','contract_type_One year', 'contract_type_Two year','internet_service_type_Fiber optic',]\n",
    "X_validate = validate[features]\n",
    "y_validate = validate['has_churned']\n",
    "\n",
    "# Make the model\n",
    "tree1 = DecisionTreeClassifier(max_depth=3, random_state=100)\n",
    "\n",
    "# Fit the model (on train and only train)\n",
    "tree1 = tree1.fit(X_train, y_train)\n",
    "\n",
    "# Evaluating model on Evaluate sample\n",
    "y_predictions = tree1.predict(X_validate)"
   ]
  },
  {
   "cell_type": "code",
   "execution_count": 72,
   "id": "f0a837f1",
   "metadata": {},
   "outputs": [
    {
     "data": {
      "image/png": "[encoded data removed]",
      "text/plain": [
       "<Figure size 864x504 with 1 Axes>"
      ]
     },
     "metadata": {
      "needs_background": "light"
     },
     "output_type": "display_data"
    }
   ],
   "source": [
    "# Visual of decision tree\n",
    "plt.figure(figsize=(12, 7))\n",
    "plot_tree(tree1, feature_names=X_validate.columns, class_names=['0','1'])\n",
    "plt.show()"
   ]
  },
  {
   "cell_type": "code",
   "execution_count": 73,
   "id": "cda41319",
   "metadata": {},
   "outputs": [
    {
     "name": "stdout",
     "output_type": "stream",
     "text": [
      "Accuracy of Decision Tree classifier on training set: 0.74\n"
     ]
    }
   ],
   "source": [
    "# Evaluating model score against validate model\n",
    "\n",
    "print('Accuracy of Decision Tree classifier on training set: {:.2f}'\n",
    "      .format(tree1.score(X_validate, y_validate)))"
   ]
  },
  {
   "cell_type": "code",
   "execution_count": 76,
   "id": "3de28e74",
   "metadata": {
    "scrolled": false
   },
   "outputs": [
    {
     "name": "stderr",
     "output_type": "stream",
     "text": [
      "/opt/homebrew/anaconda3/lib/python3.9/site-packages/sklearn/utils/deprecation.py:87: FutureWarning: Function plot_confusion_matrix is deprecated; Function `plot_confusion_matrix` is deprecated in 1.0 and will be removed in 1.2. Use one of the class methods: ConfusionMatrixDisplay.from_predictions or ConfusionMatrixDisplay.from_estimator.\n",
      "  warnings.warn(msg, category=FutureWarning)\n"
     ]
    },
    {
     "data": {
      "text/plain": [
       "<sklearn.metrics._plot.confusion_matrix.ConfusionMatrixDisplay at 0x1684159a0>"
      ]
     },
     "execution_count": 76,
     "metadata": {},
     "output_type": "execute_result"
    },
    {
     "data": {
      "image/png": "[encoded data removed]",
      "text/plain": [
       "<Figure size 432x288 with 2 Axes>"
      ]
     },
     "metadata": {
      "needs_background": "light"
     },
     "output_type": "display_data"
    }
   ],
   "source": [
    "plot_confusion_matrix(tree1, X_validate, y_validate)\n"
   ]
  },
  {
   "cell_type": "code",
   "execution_count": 77,
   "id": "149423ab",
   "metadata": {},
   "outputs": [
    {
     "name": "stdout",
     "output_type": "stream",
     "text": [
      "              precision    recall  f1-score   support\n",
      "\n",
      "           0       0.85      0.79      0.82       775\n",
      "           1       0.51      0.61      0.56       280\n",
      "\n",
      "    accuracy                           0.74      1055\n",
      "   macro avg       0.68      0.70      0.69      1055\n",
      "weighted avg       0.76      0.74      0.75      1055\n",
      "\n"
     ]
    }
   ],
   "source": [
    "print(classification_report(y_validate, y_predictions))\n"
   ]
  },
  {
   "cell_type": "code",
   "execution_count": 78,
   "id": "bcb1a7c4",
   "metadata": {},
   "outputs": [
    {
     "name": "stdout",
     "output_type": "stream",
     "text": [
      "Tree of 1 depth\n"
     ]
    },
    {
     "data": {
      "text/html": [
       "<div>\n",
       "<style scoped>\n",
       "    .dataframe tbody tr th:only-of-type {\n",
       "        vertical-align: middle;\n",
       "    }\n",
       "\n",
       "    .dataframe tbody tr th {\n",
       "        vertical-align: top;\n",
       "    }\n",
       "\n",
       "    .dataframe thead th {\n",
       "        text-align: right;\n",
       "    }\n",
       "</style>\n",
       "<table border=\"1\" class=\"dataframe\">\n",
       "  <thead>\n",
       "    <tr style=\"text-align: right;\">\n",
       "      <th></th>\n",
       "      <th>0</th>\n",
       "      <th>1</th>\n",
       "      <th>accuracy</th>\n",
       "      <th>macro avg</th>\n",
       "      <th>weighted avg</th>\n",
       "    </tr>\n",
       "  </thead>\n",
       "  <tbody>\n",
       "    <tr>\n",
       "      <th>precision</th>\n",
       "      <td>0.849791</td>\n",
       "      <td>0.511905</td>\n",
       "      <td>0.74218</td>\n",
       "      <td>0.680848</td>\n",
       "      <td>0.760115</td>\n",
       "    </tr>\n",
       "    <tr>\n",
       "      <th>recall</th>\n",
       "      <td>0.788387</td>\n",
       "      <td>0.614286</td>\n",
       "      <td>0.74218</td>\n",
       "      <td>0.701336</td>\n",
       "      <td>0.742180</td>\n",
       "    </tr>\n",
       "    <tr>\n",
       "      <th>f1-score</th>\n",
       "      <td>0.817938</td>\n",
       "      <td>0.558442</td>\n",
       "      <td>0.74218</td>\n",
       "      <td>0.688190</td>\n",
       "      <td>0.749067</td>\n",
       "    </tr>\n",
       "    <tr>\n",
       "      <th>support</th>\n",
       "      <td>775.000000</td>\n",
       "      <td>280.000000</td>\n",
       "      <td>0.74218</td>\n",
       "      <td>1055.000000</td>\n",
       "      <td>1055.000000</td>\n",
       "    </tr>\n",
       "  </tbody>\n",
       "</table>\n",
       "</div>"
      ],
      "text/plain": [
       "                    0           1  accuracy    macro avg  weighted avg\n",
       "precision    0.849791    0.511905   0.74218     0.680848      0.760115\n",
       "recall       0.788387    0.614286   0.74218     0.701336      0.742180\n",
       "f1-score     0.817938    0.558442   0.74218     0.688190      0.749067\n",
       "support    775.000000  280.000000   0.74218  1055.000000   1055.000000"
      ]
     },
     "execution_count": 78,
     "metadata": {},
     "output_type": "execute_result"
    }
   ],
   "source": [
    "# Produce the classification report on the actual y values and this model's predicted y values\n",
    "report = classification_report(y_validate, y_predictions, output_dict=True)\n",
    "print(\"Tree of 1 depth\")\n",
    "pd.DataFrame(report)"
   ]
  },
  {
   "cell_type": "code",
   "execution_count": 79,
   "id": "ff4195b5",
   "metadata": {
    "scrolled": true
   },
   "outputs": [
    {
     "name": "stdout",
     "output_type": "stream",
     "text": [
      "Negative Cases: 775\n",
      "Positive Cases: 280\n",
      "0    775\n",
      "1    280\n",
      "Name: has_churned, dtype: int64\n",
      "Accuracy: 0.7421800947867299 \n",
      "\n",
      "True Positive Rate/Sensitivity/Recall/Power: 0.6142857142857143 \n",
      "\n",
      "False Positive Rate/False Alarm Ratio/Fall-out: 0.21161290322580645 \n",
      "\n",
      "True Negative Rate/Specificity/Selectivity: 0.7883870967741935 \n",
      "\n",
      "False Negative Rate/Miss Rate: 0.38571428571428573 \n",
      "\n",
      "Precision/PPV: 0.5119047619047619 \n",
      "\n",
      "F1 Score: 0.5584415584415584 \n",
      "\n",
      "Support (0): 775 \n",
      "\n",
      "Support (1): 280\n"
     ]
    }
   ],
   "source": [
    "# creating readable output for audience\n",
    "TN, FP, FN, TP = confusion_matrix(y_validate, y_predictions).ravel()\n",
    "\n",
    "TN, FP, FN, TP\n",
    "\n",
    "negative_cases = TN + FP\n",
    "positive_cases = FN + TP\n",
    "print(f\"Negative Cases: {negative_cases}\")\n",
    "print(f\"Positive Cases: {positive_cases}\")\n",
    "print(y_validate.value_counts())\n",
    "\n",
    "ALL = TP + FP + FN + TN\n",
    "\n",
    "accuracy = (TP + TN)/ALL\n",
    "true_positive_rate = sensitivity = recall = power = TP/(TP+FN)\n",
    "false_positive_rate = false_alarm_ratio = fallout = FP/(FP+TN)\n",
    "true_negative_rate = specificity = selectivity = TN/(TN+FP)\n",
    "false_negative_rate = miss_rate = FN/(FN+TP)\n",
    "precision = PPV = TP/(TP+FP)\n",
    "f1_score = 2*(precision*recall)/(precision+recall)\n",
    "support_pos = TP + FN\n",
    "support_neg = FP + TN\n",
    "\n",
    "print(f\"Accuracy: {accuracy}\", '\\n')\n",
    "print(f\"True Positive Rate/Sensitivity/Recall/Power: {true_positive_rate}\", '\\n')\n",
    "print(f\"False Positive Rate/False Alarm Ratio/Fall-out: {false_positive_rate}\", '\\n')\n",
    "print(f\"True Negative Rate/Specificity/Selectivity: {true_negative_rate}\", '\\n')\n",
    "print(f\"False Negative Rate/Miss Rate: {false_negative_rate}\", '\\n')\n",
    "print(f\"Precision/PPV: {precision}\", '\\n')\n",
    "print(f\"F1 Score: {f1_score}\", '\\n')\n",
    "print(f\"Support (0): {support_neg}\", '\\n')\n",
    "print(f\"Support (1): {support_pos}\")"
   ]
  },
  {
   "cell_type": "markdown",
   "id": "1fd0799d",
   "metadata": {},
   "source": [
    "Sklearn is calling churned customer (1) our positive case\n"
   ]
  },
  {
   "cell_type": "markdown",
   "id": "95f218b4",
   "metadata": {},
   "source": [
    "# Model 2 Logistic Regression Performance on validate dataset"
   ]
  },
  {
   "cell_type": "code",
   "execution_count": 80,
   "id": "8723cd91",
   "metadata": {},
   "outputs": [],
   "source": [
    "features = ['tech_support_Yes','contract_type_One year', 'contract_type_Two year','internet_service_type_Fiber optic',]\n",
    "X_validate = validate[features]\n",
    "y_validate = validate['has_churned']"
   ]
  },
  {
   "cell_type": "code",
   "execution_count": 82,
   "id": "57ccf7b2",
   "metadata": {},
   "outputs": [
    {
     "name": "stdout",
     "output_type": "stream",
     "text": [
      "Baseline is 0.73\n",
      "Logistic Regression using age, pclass, and fare features\n",
      "Accuracy of Logistic Regression classifier on validate set: 0.76\n"
     ]
    }
   ],
   "source": [
    "# Define the logistic regression model\n",
    "\n",
    "logit = LogisticRegression(random_state=100)\n",
    "\n",
    "# Fit a model using only these specified features\n",
    "# logit.fit(X_train[[\"age\", \"pclass\", \"fare\"]], y_train)\n",
    "logit.fit(X_validate[features], y_validate)\n",
    "\n",
    "# Since we .fit on a subset, we .predict on that same subset of features\n",
    "y_pred = logit.predict(X_validate[features])\n",
    "\n",
    "print(\"Baseline is\", round(baseline_accuracy, 2))\n",
    "print(\"Logistic Regression using age, pclass, and fare features\")\n",
    "print('Accuracy of Logistic Regression classifier on validate set: {:.2f}'\n",
    "     .format(logit.score(X_validate[features], y_validate)))"
   ]
  },
  {
   "cell_type": "markdown",
   "id": "75229bf4",
   "metadata": {},
   "source": [
    "# Findings \n",
    "\n",
    "Based on the performance of the two best models on the validate set the best model is the logistic Regression model "
   ]
  },
  {
   "cell_type": "code",
   "execution_count": null,
   "id": "1a86dd2b",
   "metadata": {},
   "outputs": [],
   "source": []
  }
 ],
 "metadata": {
  "kernelspec": {
   "display_name": "Python 3 (ipykernel)",
   "language": "python",
   "name": "python3"
  },
  "language_info": {
   "codemirror_mode": {
    "name": "ipython",
    "version": 3
   },
   "file_extension": ".py",
   "mimetype": "text/x-python",
   "name": "python",
   "nbconvert_exporter": "python",
   "pygments_lexer": "ipython3",
   "version": "3.9.12"
  }
 },
 "nbformat": 4,
 "nbformat_minor": 5
}
